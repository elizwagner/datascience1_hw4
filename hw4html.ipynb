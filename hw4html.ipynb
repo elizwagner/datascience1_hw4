{
 "cells": [
  {
   "cell_type": "code",
   "execution_count": 1,
   "metadata": {},
   "outputs": [],
   "source": [
    "# imports\n",
    "import pip\n",
    "import numpy as np\n",
    "import pandas as pd\n",
    "import seaborn as sns\n",
    "import matplotlib.pyplot as plt\n",
    "import plotly.express as px\n",
    "sns.set()\n",
    "# Loading in the hierarcy\n",
    "url = \"https://raw.githubusercontent.com/bcaffo/MRIcloudT1volumetrics/master/inst/extdata/multilevel_lookup_table.txt\"\n",
    "multilevel_lookup = pd.read_csv(url, sep = \"\\t\").drop(['Level5'], axis = 1)\n",
    "multilevel_lookup = multilevel_lookup.rename(columns = {\n",
    "    \"modify\"   : \"roi\", \n",
    "    \"modify.1\" : \"level4\",\n",
    "    \"modify.2\" : \"level3\", \n",
    "    \"modify.3\" : \"level2\",\n",
    "    \"modify.4\" : \"level1\"})\n",
    "multilevel_lookup = multilevel_lookup[['roi', 'level3', 'level2', 'level1']]\n",
    "# Loading in kirby21 all levels \n",
    "df_all_levels = pd.read_csv(\"https://raw.githubusercontent.com/smart-stats/ds4bio_book/main/book/assetts/kirby21AllLevels.csv\")\n",
    "df_all_levels = df_all_levels.drop(['Unnamed: 0',  'min', 'max', 'mean', 'std'],\\\n",
    "             axis = 1)\n"
   ]
  },
  {
   "cell_type": "code",
   "execution_count": 2,
   "metadata": {},
   "outputs": [],
   "source": [
    "id = 127\n",
    "subjectData = df_all_levels.loc[(df_all_levels.type == 1) & (df_all_levels.level == 5) & (df_all_levels.id == id)]\n",
    "subjectData = subjectData[['roi', 'volume']]\n",
    "## Merge the subject data with the multilevel data\n",
    "subjectData = pd.merge(subjectData, multilevel_lookup, on = \"roi\")\n",
    "subjectData = subjectData.assign(icv = \"ICV\")\n",
    "subjectData = subjectData.assign(comp = subjectData.volume / np.sum(subjectData.volume))"
   ]
  },
  {
   "cell_type": "code",
   "execution_count": 3,
   "metadata": {},
   "outputs": [
    {
     "data": {
      "application/vnd.plotly.v1+json": {
       "config": {
        "plotlyServerURL": "https://plot.ly"
       },
       "data": [
        {
         "branchvalues": "total",
         "domain": {
          "x": [
           0,
           1
          ],
          "y": [
           0,
           1
          ]
         },
         "hovertemplate": "labels=%{label}<br>comp=%{value}<br>parent=%{parent}<br>id=%{id}<extra></extra>",
         "ids": [
          "ICV/Telencephalon_L/WhiteMatter_L/AnteriorWM_L/ACR_L",
          "ICV/Telencephalon_R/WhiteMatter_R/AnteriorWM_R/ACR_R",
          "ICV/Telencephalon_L/WhiteMatter_L/PosteriorWM_L/AGWM_L",
          "ICV/Telencephalon_R/WhiteMatter_R/PosteriorWM_R/AGWM_R",
          "ICV/Telencephalon_L/CerebralCortex_L/Parietal_L/AG_L",
          "ICV/Telencephalon_R/CerebralCortex_R/Parietal_R/AG_R",
          "ICV/Telencephalon_L/WhiteMatter_L/InferiorWM_L/ALIC_L",
          "ICV/Telencephalon_R/WhiteMatter_R/InferiorWM_R/ALIC_R",
          "ICV/Telencephalon_L/CerebralNucli_L/Limbic_L/Amyg_L",
          "ICV/Telencephalon_R/CerebralNucli_R/Limbic_R/Amyg_R",
          "ICV/Telencephalon_L/WhiteMatter_L/CorpusCallosum_L/BCC_L",
          "ICV/Telencephalon_R/WhiteMatter_R/CorpusCallosum_R/BCC_R",
          "ICV/Diencephalon_L/BasalForebrain_L/BasalForebrain_L/BasalForebrain_L",
          "ICV/Diencephalon_R/BasalForebrain_R/BasalForebrain_R/BasalForebrain_R",
          "ICV/Telencephalon_L/WhiteMatter_L/LimbicWM_L/CGC_L",
          "ICV/Telencephalon_R/WhiteMatter_R/LimbicWM_R/CGC_R",
          "ICV/Telencephalon_L/WhiteMatter_L/LimbicWM_L/CGH_L",
          "ICV/Telencephalon_R/WhiteMatter_R/LimbicWM_R/CGH_R",
          "ICV/Mesencephalon/Mesencephalon_L/midbrain_L/CP_L",
          "ICV/Mesencephalon/Mesencephalon_R/midbrain_R/CP_R",
          "ICV/Metencephalon/Metencephalon_L/Pons_L/CST_L",
          "ICV/Metencephalon/Metencephalon_R/Pons_R/CST_R",
          "ICV/Telencephalon_L/CerebralNucli_L/BasalGang_L/Caud_L",
          "ICV/Telencephalon_R/CerebralNucli_R/BasalGang_R/Caud_R",
          "ICV/Telencephalon_L/CerebralNucli_L/BasalGang_L/Caudate_tail_L",
          "ICV/Telencephalon_R/CerebralNucli_R/BasalGang_R/Caudate_tail_R",
          "ICV/CSF/Sulcus_L/CentralSul_L/CentralSul_L",
          "ICV/CSF/Sulcus_R/CentralSul_R/CentralSul_R",
          "ICV/Metencephalon/Metencephalon_L/Cerebellum_L/CerebellumGM_L",
          "ICV/Metencephalon/Metencephalon_R/Cerebellum_R/CerebellumGM_R",
          "ICV/Metencephalon/Metencephalon_L/Cerebellum_L/CerebellumWM_L",
          "ICV/Metencephalon/Metencephalon_R/Cerebellum_R/CerebellumWM_R",
          "ICV/CSF/Ventricle /LateralVentricle_L/Chroid_LVetc_L",
          "ICV/CSF/Ventricle /LateralVentricle_R/Chroid_LVetc_R",
          "ICV/CSF/Sulcus_L/CinguSul_L/CinguSul_L",
          "ICV/CSF/Sulcus_R/CinguSul_R/CinguSul_R",
          "ICV/Diencephalon_L/BasalForebrain_L/BasalForebrain_L/Cl_L",
          "ICV/Diencephalon_R/BasalForebrain_R/BasalForebrain_R/Cl_R",
          "ICV/Telencephalon_L/WhiteMatter_L/PosteriorWM_L/CuWM_L",
          "ICV/Telencephalon_R/WhiteMatter_R/PosteriorWM_R/CuWM_R",
          "ICV/Telencephalon_L/CerebralCortex_L/Occipital_L/Cu_L",
          "ICV/Telencephalon_R/CerebralCortex_R/Occipital_R/Cu_R",
          "ICV/Telencephalon_L/WhiteMatter_L/InferiorWM_L/ECCL_L",
          "ICV/Telencephalon_R/WhiteMatter_R/InferiorWM_R/ECCL_R",
          "ICV/Telencephalon_L/WhiteMatter_L/InferiorWM_L/EC_L",
          "ICV/Telencephalon_R/WhiteMatter_R/InferiorWM_R/EC_R",
          "ICV/Telencephalon_L/CerebralCortex_L/Limbic_L/ENT_L",
          "ICV/Telencephalon_R/CerebralCortex_R/Limbic_R/ENT_R",
          "ICV/Telencephalon_L/CerebralCortex_L/Limbic_L/Fimbria_L",
          "ICV/Telencephalon_R/CerebralCortex_R/Limbic_R/Fimbria_R",
          "ICV/CSF/Sulcus_L/FrontSul_L/FrontSul_L",
          "ICV/CSF/Sulcus_R/FrontSul_R/FrontSul_R",
          "ICV/Telencephalon_L/CerebralCortex_L/Temporal_L/FuG_L",
          "ICV/Telencephalon_R/CerebralCortex_R/Temporal_R/FuG_R",
          "ICV/Telencephalon_L/WhiteMatter_L/InferiorWM_L/FuWM_L",
          "ICV/Telencephalon_R/WhiteMatter_R/InferiorWM_R/FuWM_R",
          "ICV/Telencephalon_L/WhiteMatter_L/LimbicWM_L/Fx/ST_L",
          "ICV/Telencephalon_R/WhiteMatter_R/LimbicWM_R/Fx/ST_R",
          "ICV/Telencephalon_L/WhiteMatter_L/LimbicWM_L/Fx_L",
          "ICV/Telencephalon_R/WhiteMatter_R/LimbicWM_R/Fx_R",
          "ICV/Telencephalon_L/WhiteMatter_L/CorpusCallosum_L/GCC_L",
          "ICV/Telencephalon_R/WhiteMatter_R/CorpusCallosum_R/GCC_R",
          "ICV/Telencephalon_L/CerebralNucli_L/BasalGang_L/GP_L",
          "ICV/Telencephalon_R/CerebralNucli_R/BasalGang_R/GP_R",
          "ICV/Telencephalon_L/CerebralCortex_L/Limbic_L/Hippo_L",
          "ICV/Telencephalon_R/CerebralCortex_R/Limbic_R/Hippo_R",
          "ICV/Diencephalon_L/BasalForebrain_L/BasalForebrain_L/HypoThalamus_L",
          "ICV/Diencephalon_R/BasalForebrain_R/BasalForebrain_R/HypoThalamus_R",
          "ICV/Myelencephalon/Myelencephalon_L/Medulla_L/ICP_L",
          "ICV/Myelencephalon/Myelencephalon_R/Medulla_R/ICP_R",
          "ICV/Metencephalon/Metencephalon_L/Cerebellum_L/ICP_cb_L",
          "ICV/Metencephalon/Metencephalon_R/Cerebellum_R/ICP_cb_R",
          "ICV/Telencephalon_L/CerebralCortex_L/Frontal_L/IFG_opercularis_L",
          "ICV/Telencephalon_R/CerebralCortex_R/Frontal_R/IFG_opercularis_R",
          "ICV/Telencephalon_L/CerebralCortex_L/Frontal_L/IFG_orbitalis_L",
          "ICV/Telencephalon_R/CerebralCortex_R/Frontal_R/IFG_orbitalis_R",
          "ICV/Telencephalon_L/CerebralCortex_L/Frontal_L/IFG_triangularis_L",
          "ICV/Telencephalon_R/CerebralCortex_R/Frontal_R/IFG_triangularis_R",
          "ICV/Telencephalon_L/WhiteMatter_L/InferiorWM_L/IFO_L",
          "ICV/Telencephalon_R/WhiteMatter_R/InferiorWM_R/IFO_R",
          "ICV/Telencephalon_L/WhiteMatter_L/AnteriorWM_L/IFWM_opercularis_L",
          "ICV/Telencephalon_R/WhiteMatter_R/AnteriorWM_R/IFWM_opercularis_R",
          "ICV/Telencephalon_L/WhiteMatter_L/AnteriorWM_L/IFWM_orbitalis_L",
          "ICV/Telencephalon_R/WhiteMatter_R/AnteriorWM_R/IFWM_orbitalis_R",
          "ICV/Telencephalon_L/WhiteMatter_L/AnteriorWM_L/IFWM_triangularis_L",
          "ICV/Telencephalon_R/WhiteMatter_R/AnteriorWM_R/IFWM_triangularis_R",
          "ICV/CSF/Ventricle/III_ventricle/III_ventricle",
          "ICV/Telencephalon_L/CerebralCortex_L/Occipital_L/IOG_L",
          "ICV/Telencephalon_R/CerebralCortex_R/Occipital_R/IOG_R",
          "ICV/Telencephalon_L/WhiteMatter_L/PosteriorWM_L/IOWM_L",
          "ICV/Telencephalon_R/WhiteMatter_R/PosteriorWM_R/IOWM_R",
          "ICV/Telencephalon_L/CerebralCortex_L/Temporal_L/ITG_L",
          "ICV/Telencephalon_R/CerebralCortex_R/Temporal_R/ITG_R",
          "ICV/Telencephalon_L/WhiteMatter_L/InferiorWM_L/ITWM_L",
          "ICV/Telencephalon_R/WhiteMatter_R/InferiorWM_R/ITWM_R",
          "ICV/CSF/Ventricle/IV_ventricle/IV_ventricle",
          "ICV/Telencephalon_L/CerebralCortex_L/Insula_L/Insula_L",
          "ICV/Telencephalon_R/CerebralCortex_R/Insula_R/Insula_R",
          "ICV/Telencephalon_L/CerebralCortex_L/Frontal_L/LFOG_L",
          "ICV/Telencephalon_R/CerebralCortex_R/Frontal_R/LFOG_R",
          "ICV/Telencephalon_L/WhiteMatter_L/AnteriorWM_L/LFOWM_L",
          "ICV/Telencephalon_R/WhiteMatter_R/AnteriorWM_R/LFOWM_R",
          "ICV/Telencephalon_L/WhiteMatter_L/PosteriorWM_L/LGWM_L",
          "ICV/Telencephalon_R/WhiteMatter_R/PosteriorWM_R/LGWM_R",
          "ICV/Telencephalon_L/CerebralCortex_L/Occipital_L/LG_L",
          "ICV/Telencephalon_R/CerebralCortex_R/Occipital_R/LG_R",
          "ICV/CSF/Ventricle/LateralVentricle_L/LV_Frontal_L",
          "ICV/CSF/Ventricle/LateralVentricle_R/LV_Frontal_R",
          "ICV/CSF/Ventricle/LateralVentricle_L/LV_Inferior_L",
          "ICV/CSF/Ventricle/LateralVentricle_R/LV_Inferior_R",
          "ICV/CSF/Ventricle/LateralVentricle_L/LV_Occipital_L",
          "ICV/CSF/Ventricle/LateralVentricle_R/LV_Occipital_R",
          "ICV/CSF/Ventricle/LateralVentricle_L/LV_atrium_L",
          "ICV/CSF/Ventricle/LateralVentricle_R/LV_atrium_R",
          "ICV/CSF/Ventricle/LateralVentricle_L/LV_body_L",
          "ICV/CSF/Ventricle/LateralVentricle_R/LV_body_R",
          "ICV/Metencephalon/Metencephalon_L/Pons_L/MCP_L",
          "ICV/Metencephalon/Metencephalon_R/Pons_R/MCP_R",
          "ICV/Metencephalon/Metencephalon_L/Cerebellum_L/MCP_cb_L",
          "ICV/Metencephalon/Metencephalon_R/Cerebellum_R/MCP_cb_R",
          "ICV/Telencephalon_L/CerebralCortex_L/Frontal_L/MFG_DPFC_L",
          "ICV/Telencephalon_R/CerebralCortex_R/Frontal_R/MFG_DPFC_R",
          "ICV/Telencephalon_L/CerebralCortex_L/Frontal_L/MFG_L",
          "ICV/Telencephalon_R/CerebralCortex_R/Frontal_R/MFG_R",
          "ICV/Telencephalon_L/CerebralCortex_L/Frontal_L/MFOG_L",
          "ICV/Telencephalon_R/CerebralCortex_R/Frontal_R/MFOG_R",
          "ICV/Telencephalon_L/WhiteMatter_L/AnteriorWM_L/MFOWM_L",
          "ICV/Telencephalon_R/WhiteMatter_R/AnteriorWM_R/MFOWM_R",
          "ICV/Telencephalon_L/WhiteMatter_L/AnteriorWM_L/MFWM_DPFC_L",
          "ICV/Telencephalon_R/WhiteMatter_R/AnteriorWM_R/MFWM_DPFC_R",
          "ICV/Telencephalon_L/WhiteMatter_L/AnteriorWM_L/MFWM_L",
          "ICV/Telencephalon_R/WhiteMatter_R/AnteriorWM_R/MFWM_R",
          "ICV/Metencephalon/Metencephalon_L/Pons_L/ML_L",
          "ICV/Metencephalon/Metencephalon_R/Pons_R/ML_R",
          "ICV/Telencephalon_L/CerebralCortex_L/Occipital_L/MOG_L",
          "ICV/Telencephalon_R/CerebralCortex_R/Occipital_R/MOG_R",
          "ICV/Telencephalon_L/WhiteMatter_L/PosteriorWM_L/MOWM_L",
          "ICV/Telencephalon_R/WhiteMatter_R/PosteriorWM_R/MOWM_R",
          "ICV/Telencephalon_L/CerebralCortex_L/Temporal_L/MTG_L",
          "ICV/Telencephalon_L/CerebralCortex_L/Temporal_L/MTG_L_pole",
          "ICV/Telencephalon_R/CerebralCortex_R/Temporal_R/MTG_R",
          "ICV/Telencephalon_R/CerebralCortex_R/Temporal_R/MTG_R_pole",
          "ICV/Telencephalon_L/WhiteMatter_L/InferiorWM_L/MTWM_L",
          "ICV/Telencephalon_L/WhiteMatter_L/InferiorWM_L/MTWM_L_pole",
          "ICV/Telencephalon_R/WhiteMatter_R/InferiorWM_R/MTWM_R",
          "ICV/Telencephalon_R/WhiteMatter_R/InferiorWM_R/MTWM_R_pole",
          "ICV/Diencephalon_L/BasalForebrain_L/BasalForebrain_L/Mammillary_L",
          "ICV/Diencephalon_R/BasalForebrain_R/BasalForebrain_R/Mammillary_R",
          "ICV/Myelencephalon/Myelencephalon_L/Medulla_L/Medulla_L",
          "ICV/Myelencephalon/Myelencephalon_R/Medulla_R/Medulla_R",
          "ICV/Mesencephalon/Mesencephalon_L/midbrain_L/Midbrain_L",
          "ICV/Mesencephalon/Mesencephalon_R/midbrain_R/Midbrain_R",
          "ICV/Telencephalon_L/CerebralNucli_L/BasalGang_L/NucAccumbens_L",
          "ICV/Telencephalon_R/CerebralNucli_R/BasalGang_R/NucAccumbens_R",
          "ICV/CSF/Sulcus_L/OcciptSul_L/OcciptSul_L",
          "ICV/CSF/Sulcus_R/OcciptSul_R/OcciptSul_R",
          "ICV/Telencephalon_L/WhiteMatter_L/LimbicWM_L/PCCWM_L",
          "ICV/Telencephalon_R/WhiteMatter_R/LimbicWM_R/PCCWM_R",
          "ICV/Telencephalon_L/CerebralCortex_L/Limbic_L/PCC_L",
          "ICV/Telencephalon_R/CerebralCortex_R/Limbic_R/PCC_R",
          "ICV/Telencephalon_L/WhiteMatter_L/PosteriorWM_L/PCR_L",
          "ICV/Telencephalon_R/WhiteMatter_R/PosteriorWM_R/PCR_R",
          "ICV/Metencephalon/Metencephalon_L/Pons_L/PCT_L",
          "ICV/Metencephalon/Metencephalon_R/Pons_R/PCT_R",
          "ICV/Telencephalon_L/CerebralCortex_L/Limbic_L/PHG_L",
          "ICV/Telencephalon_R/CerebralCortex_R/Limbic_R/PHG_R",
          "ICV/Telencephalon_L/WhiteMatter_L/InferiorWM_L/PLIC_L",
          "ICV/Telencephalon_R/WhiteMatter_R/InferiorWM_R/PLIC_R",
          "ICV/Telencephalon_L/WhiteMatter_L/InferiorWM_L/PTR_L",
          "ICV/Telencephalon_R/WhiteMatter_R/InferiorWM_R/PTR_R",
          "ICV/Telencephalon_L/WhiteMatter_L/AnteriorWM_L/PVWa_L",
          "ICV/Telencephalon_R/WhiteMatter_R/AnteriorWM_R/PVWa_R",
          "ICV/Telencephalon_L/WhiteMatter_L/InferiorWM_L/PVWl_L",
          "ICV/Telencephalon_R/WhiteMatter_R/InferiorWM_R/PVWl_R",
          "ICV/Telencephalon_L/WhiteMatter_L/PosteriorWM_L/PVWp_L",
          "ICV/Telencephalon_R/WhiteMatter_R/PosteriorWM_R/PVWp_R",
          "ICV/CSF/Sulcus_L/ParietSul_L/ParietSul_L",
          "ICV/CSF/Sulcus_R/ParietSul_R/ParietSul_R",
          "ICV/Telencephalon_L/CerebralCortex_L/Parietal_L/PoCG_L",
          "ICV/Telencephalon_R/CerebralCortex_R/Parietal_R/PoCG_R",
          "ICV/Telencephalon_L/WhiteMatter_L/PosteriorWM_L/PoCWM_L",
          "ICV/Telencephalon_R/WhiteMatter_R/PosteriorWM_R/PoCWM_R",
          "ICV/Metencephalon/Metencephalon_L/Pons_L/Pons_L",
          "ICV/Metencephalon/Metencephalon_R/Pons_R/Pons_R",
          "ICV/Telencephalon_L/CerebralCortex_L/Frontal_L/PrCG_L",
          "ICV/Telencephalon_R/CerebralCortex_R/Frontal_R/PrCG_R",
          "ICV/Telencephalon_L/WhiteMatter_L/AnteriorWM_L/PrCWM_L",
          "ICV/Telencephalon_R/WhiteMatter_R/AnteriorWM_R/PrCWM_R",
          "ICV/Telencephalon_L/WhiteMatter_L/PosteriorWM_L/PrCuWM_L",
          "ICV/Telencephalon_R/WhiteMatter_R/PosteriorWM_R/PrCuWM_R",
          "ICV/Telencephalon_L/CerebralCortex_L/Parietal_L/PrCu_L",
          "ICV/Telencephalon_R/CerebralCortex_R/Parietal_R/PrCu_R",
          "ICV/Telencephalon_L/CerebralNucli_L/BasalGang_L/Put_L",
          "ICV/Telencephalon_R/CerebralNucli_R/BasalGang_R/Put_R",
          "ICV/Telencephalon_L/WhiteMatter_L/AnteriorWM_L/RGWM_L",
          "ICV/Telencephalon_R/WhiteMatter_R/AnteriorWM_R/RGWM_R",
          "ICV/Telencephalon_L/CerebralCortex_L/Frontal_L/RG_L",
          "ICV/Telencephalon_R/CerebralCortex_R/Frontal_R/RG_R",
          "ICV/Telencephalon_L/WhiteMatter_L/InferiorWM_L/RLIC_L",
          "ICV/Telencephalon_R/WhiteMatter_R/InferiorWM_R/RLIC_R",
          "ICV/Mesencephalon/Mesencephalon_L/midbrain_L/RedNc_L",
          "ICV/Mesencephalon/Mesencephalon_R/midbrain_R/RedNc_R",
          "ICV/Telencephalon_L/WhiteMatter_L/CorpusCallosum_L/SCC_L",
          "ICV/Telencephalon_R/WhiteMatter_R/CorpusCallosum_R/SCC_R",
          "ICV/Metencephalon/Metencephalon_L/Pons_L/SCP_L",
          "ICV/Metencephalon/Metencephalon_R/Pons_R/SCP_R",
          "ICV/Telencephalon_L/WhiteMatter_L/AnteriorWM_L/SCR_L",
          "ICV/Telencephalon_R/WhiteMatter_R/AnteriorWM_R/SCR_R",
          "ICV/Telencephalon_L/CerebralCortex_L/Frontal_L/SFG_L",
          "ICV/Telencephalon_L/CerebralCortex_L/Frontal_L/SFG_PFC_L",
          "ICV/Telencephalon_R/CerebralCortex_R/Frontal_R/SFG_PFC_R",
          "ICV/Telencephalon_R/CerebralCortex_R/Frontal_R/SFG_R",
          "ICV/Telencephalon_L/CerebralCortex_L/Frontal_L/SFG_pole_L",
          "ICV/Telencephalon_R/CerebralCortex_R/Frontal_R/SFG_pole_R",
          "ICV/Telencephalon_L/WhiteMatter_L/AnteriorWM_L/SFO_L",
          "ICV/Telencephalon_R/WhiteMatter_R/AnteriorWM_R/SFO_R",
          "ICV/Telencephalon_L/WhiteMatter_L/AnteriorWM_L/SFWM_L",
          "ICV/Telencephalon_L/WhiteMatter_L/AnteriorWM_L/SFWM_PFC_L",
          "ICV/Telencephalon_R/WhiteMatter_R/AnteriorWM_R/SFWM_PFC_R",
          "ICV/Telencephalon_R/WhiteMatter_R/AnteriorWM_R/SFWM_R",
          "ICV/Telencephalon_L/WhiteMatter_L/AnteriorWM_L/SFWM_pole_L",
          "ICV/Telencephalon_R/WhiteMatter_R/AnteriorWM_R/SFWM_pole_R",
          "ICV/Telencephalon_L/WhiteMatter_L/PosteriorWM_L/SLF_L",
          "ICV/Telencephalon_R/WhiteMatter_R/PosteriorWM_R/SLF_R",
          "ICV/Telencephalon_L/CerebralCortex_L/Parietal_L/SMG_L",
          "ICV/Telencephalon_R/CerebralCortex_R/Parietal_R/SMG_R",
          "ICV/Telencephalon_L/WhiteMatter_L/PosteriorWM_L/SMWM_L",
          "ICV/Telencephalon_R/WhiteMatter_R/PosteriorWM_R/SMWM_R",
          "ICV/Telencephalon_L/CerebralCortex_L/Occipital_L/SOG_L",
          "ICV/Telencephalon_R/CerebralCortex_R/Occipital_R/SOG_R",
          "ICV/Telencephalon_L/WhiteMatter_L/PosteriorWM_L/SOWM_L",
          "ICV/Telencephalon_R/WhiteMatter_R/PosteriorWM_R/SOWM_R",
          "ICV/Telencephalon_L/CerebralCortex_L/Parietal_L/SPG_L",
          "ICV/Telencephalon_R/CerebralCortex_R/Parietal_R/SPG_R",
          "ICV/Telencephalon_L/WhiteMatter_L/PosteriorWM_L/SPWM_L",
          "ICV/Telencephalon_R/WhiteMatter_R/PosteriorWM_R/SPWM_R",
          "ICV/Telencephalon_L/WhiteMatter_L/InferiorWM_L/SS_L",
          "ICV/Telencephalon_R/WhiteMatter_R/InferiorWM_R/SS_R",
          "ICV/Telencephalon_L/CerebralCortex_L/Temporal_L/STG_L",
          "ICV/Telencephalon_L/CerebralCortex_L/Temporal_L/STG_L_pole",
          "ICV/Telencephalon_R/CerebralCortex_R/Temporal_R/STG_R",
          "ICV/Telencephalon_R/CerebralCortex_R/Temporal_R/STG_R_pole",
          "ICV/Telencephalon_L/WhiteMatter_L/InferiorWM_L/STWM_L",
          "ICV/Telencephalon_L/WhiteMatter_L/InferiorWM_L/STWM_L_pole",
          "ICV/Telencephalon_R/WhiteMatter_R/InferiorWM_R/STWM_R",
          "ICV/Telencephalon_R/WhiteMatter_R/InferiorWM_R/STWM_R_pole",
          "ICV/Mesencephalon/Mesencephalon_L/midbrain_L/Snigra_L",
          "ICV/Mesencephalon/Mesencephalon_R/midbrain_R/Snigra_R",
          "ICV/CSF/Sulcus_L/SylvianFissureExt_L/SylFrontSul_L",
          "ICV/CSF/Sulcus_R/SylvianFissureExt_R/SylFrontSul_R",
          "ICV/CSF/Sulcus_L/SylvianFissureExt_L/SylParieSul_L",
          "ICV/CSF/Sulcus_R/SylvianFissureExt_R/SylParieSul_R",
          "ICV/CSF/Sulcus_L/SylvianFissureExt_L/SylTempSul_L",
          "ICV/CSF/Sulcus_R/SylvianFissureExt_R/SylTempSul_R",
          "ICV/CSF/Sulcus_L/TempSul_L/TempSul_L",
          "ICV/CSF/Sulcus_R/TempSul_R/TempSul_R",
          "ICV/Diencephalon_L/Thalamus_L/Thalamus_L/Thalamus_L",
          "ICV/Diencephalon_R/Thalamus_R/Thalamus_R/Thalamus_R",
          "ICV/Telencephalon_L/WhiteMatter_L/LimbicWM_L/dorsalWM_ACC_L",
          "ICV/Telencephalon_R/WhiteMatter_R/LimbicWM_R/dorsalWM_ACC_R",
          "ICV/Telencephalon_L/CerebralCortex_L/Limbic_L/dorsal_ACC_L",
          "ICV/Telencephalon_R/CerebralCortex_R/Limbic_R/dorsal_ACC_R",
          "ICV/Telencephalon_L/WhiteMatter_L/LimbicWM_L/rostralWM_ACC_L",
          "ICV/Telencephalon_R/WhiteMatter_R/LimbicWM_R/rostralWM_ACC_R",
          "ICV/Telencephalon_L/CerebralCortex_L/Limbic_L/rostral_ACC_L",
          "ICV/Telencephalon_R/CerebralCortex_R/Limbic_R/rostral_ACC_R",
          "ICV/Telencephalon_L/WhiteMatter_L/LimbicWM_L/subcallosalWM_ACC_L",
          "ICV/Telencephalon_R/WhiteMatter_R/LimbicWM_R/subcallosalWM_ACC_R",
          "ICV/Telencephalon_L/CerebralCortex_L/Limbic_L/subcallosal_ACC_L",
          "ICV/Telencephalon_R/CerebralCortex_R/Limbic_R/subcallosal_ACC_R",
          "ICV/Telencephalon_L/WhiteMatter_L/LimbicWM_L/subgenualWM_ACC_L",
          "ICV/Telencephalon_R/WhiteMatter_R/LimbicWM_R/subgenualWM_ACC_R",
          "ICV/Telencephalon_L/CerebralCortex_L/Limbic_L/subgenual_ACC_L",
          "ICV/Telencephalon_R/CerebralCortex_R/Limbic_R/subgenual_ACC_R",
          "ICV/Telencephalon_L/WhiteMatter_L/AnteriorWM_L",
          "ICV/Telencephalon_R/WhiteMatter_R/AnteriorWM_R",
          "ICV/Diencephalon_L/BasalForebrain_L/BasalForebrain_L",
          "ICV/Diencephalon_R/BasalForebrain_R/BasalForebrain_R",
          "ICV/Telencephalon_L/CerebralNucli_L/BasalGang_L",
          "ICV/Telencephalon_R/CerebralNucli_R/BasalGang_R",
          "ICV/CSF/Sulcus_L/CentralSul_L",
          "ICV/CSF/Sulcus_R/CentralSul_R",
          "ICV/Metencephalon/Metencephalon_L/Cerebellum_L",
          "ICV/Metencephalon/Metencephalon_R/Cerebellum_R",
          "ICV/CSF/Sulcus_L/CinguSul_L",
          "ICV/CSF/Sulcus_R/CinguSul_R",
          "ICV/Telencephalon_L/WhiteMatter_L/CorpusCallosum_L",
          "ICV/Telencephalon_R/WhiteMatter_R/CorpusCallosum_R",
          "ICV/CSF/Sulcus_L/FrontSul_L",
          "ICV/CSF/Sulcus_R/FrontSul_R",
          "ICV/Telencephalon_L/CerebralCortex_L/Frontal_L",
          "ICV/Telencephalon_R/CerebralCortex_R/Frontal_R",
          "ICV/CSF/Ventricle/III_ventricle",
          "ICV/CSF/Ventricle/IV_ventricle",
          "ICV/Telencephalon_L/WhiteMatter_L/InferiorWM_L",
          "ICV/Telencephalon_R/WhiteMatter_R/InferiorWM_R",
          "ICV/Telencephalon_L/CerebralCortex_L/Insula_L",
          "ICV/Telencephalon_R/CerebralCortex_R/Insula_R",
          "ICV/CSF/Ventricle/LateralVentricle_L",
          "ICV/CSF/Ventricle /LateralVentricle_L",
          "ICV/CSF/Ventricle/LateralVentricle_R",
          "ICV/CSF/Ventricle /LateralVentricle_R",
          "ICV/Telencephalon_L/WhiteMatter_L/LimbicWM_L",
          "ICV/Telencephalon_R/WhiteMatter_R/LimbicWM_R",
          "ICV/Telencephalon_L/CerebralCortex_L/Limbic_L",
          "ICV/Telencephalon_L/CerebralNucli_L/Limbic_L",
          "ICV/Telencephalon_R/CerebralCortex_R/Limbic_R",
          "ICV/Telencephalon_R/CerebralNucli_R/Limbic_R",
          "ICV/Myelencephalon/Myelencephalon_L/Medulla_L",
          "ICV/Myelencephalon/Myelencephalon_R/Medulla_R",
          "ICV/Telencephalon_L/CerebralCortex_L/Occipital_L",
          "ICV/Telencephalon_R/CerebralCortex_R/Occipital_R",
          "ICV/CSF/Sulcus_L/OcciptSul_L",
          "ICV/CSF/Sulcus_R/OcciptSul_R",
          "ICV/CSF/Sulcus_L/ParietSul_L",
          "ICV/CSF/Sulcus_R/ParietSul_R",
          "ICV/Telencephalon_L/CerebralCortex_L/Parietal_L",
          "ICV/Telencephalon_R/CerebralCortex_R/Parietal_R",
          "ICV/Metencephalon/Metencephalon_L/Pons_L",
          "ICV/Metencephalon/Metencephalon_R/Pons_R",
          "ICV/Telencephalon_L/WhiteMatter_L/PosteriorWM_L",
          "ICV/Telencephalon_R/WhiteMatter_R/PosteriorWM_R",
          "ICV/CSF/Sulcus_L/SylvianFissureExt_L",
          "ICV/CSF/Sulcus_R/SylvianFissureExt_R",
          "ICV/CSF/Sulcus_L/TempSul_L",
          "ICV/CSF/Sulcus_R/TempSul_R",
          "ICV/Telencephalon_L/CerebralCortex_L/Temporal_L",
          "ICV/Telencephalon_R/CerebralCortex_R/Temporal_R",
          "ICV/Diencephalon_L/Thalamus_L/Thalamus_L",
          "ICV/Diencephalon_R/Thalamus_R/Thalamus_R",
          "ICV/Mesencephalon/Mesencephalon_L/midbrain_L",
          "ICV/Mesencephalon/Mesencephalon_R/midbrain_R",
          "ICV/Diencephalon_L/BasalForebrain_L",
          "ICV/Diencephalon_R/BasalForebrain_R",
          "ICV/Telencephalon_L/CerebralCortex_L",
          "ICV/Telencephalon_R/CerebralCortex_R",
          "ICV/Telencephalon_L/CerebralNucli_L",
          "ICV/Telencephalon_R/CerebralNucli_R",
          "ICV/Mesencephalon/Mesencephalon_L",
          "ICV/Mesencephalon/Mesencephalon_R",
          "ICV/Metencephalon/Metencephalon_L",
          "ICV/Metencephalon/Metencephalon_R",
          "ICV/Myelencephalon/Myelencephalon_L",
          "ICV/Myelencephalon/Myelencephalon_R",
          "ICV/CSF/Sulcus_L",
          "ICV/CSF/Sulcus_R",
          "ICV/Diencephalon_L/Thalamus_L",
          "ICV/Diencephalon_R/Thalamus_R",
          "ICV/CSF/Ventricle",
          "ICV/CSF/Ventricle ",
          "ICV/Telencephalon_L/WhiteMatter_L",
          "ICV/Telencephalon_R/WhiteMatter_R",
          "ICV/CSF",
          "ICV/Diencephalon_L",
          "ICV/Diencephalon_R",
          "ICV/Mesencephalon",
          "ICV/Metencephalon",
          "ICV/Myelencephalon",
          "ICV/Telencephalon_L",
          "ICV/Telencephalon_R",
          "ICV"
         ],
         "labels": [
          "ACR_L",
          "ACR_R",
          "AGWM_L",
          "AGWM_R",
          "AG_L",
          "AG_R",
          "ALIC_L",
          "ALIC_R",
          "Amyg_L",
          "Amyg_R",
          "BCC_L",
          "BCC_R",
          "BasalForebrain_L",
          "BasalForebrain_R",
          "CGC_L",
          "CGC_R",
          "CGH_L",
          "CGH_R",
          "CP_L",
          "CP_R",
          "CST_L",
          "CST_R",
          "Caud_L",
          "Caud_R",
          "Caudate_tail_L",
          "Caudate_tail_R",
          "CentralSul_L",
          "CentralSul_R",
          "CerebellumGM_L",
          "CerebellumGM_R",
          "CerebellumWM_L",
          "CerebellumWM_R",
          "Chroid_LVetc_L",
          "Chroid_LVetc_R",
          "CinguSul_L",
          "CinguSul_R",
          "Cl_L",
          "Cl_R",
          "CuWM_L",
          "CuWM_R",
          "Cu_L",
          "Cu_R",
          "ECCL_L",
          "ECCL_R",
          "EC_L",
          "EC_R",
          "ENT_L",
          "ENT_R",
          "Fimbria_L",
          "Fimbria_R",
          "FrontSul_L",
          "FrontSul_R",
          "FuG_L",
          "FuG_R",
          "FuWM_L",
          "FuWM_R",
          "Fx/ST_L",
          "Fx/ST_R",
          "Fx_L",
          "Fx_R",
          "GCC_L",
          "GCC_R",
          "GP_L",
          "GP_R",
          "Hippo_L",
          "Hippo_R",
          "HypoThalamus_L",
          "HypoThalamus_R",
          "ICP_L",
          "ICP_R",
          "ICP_cb_L",
          "ICP_cb_R",
          "IFG_opercularis_L",
          "IFG_opercularis_R",
          "IFG_orbitalis_L",
          "IFG_orbitalis_R",
          "IFG_triangularis_L",
          "IFG_triangularis_R",
          "IFO_L",
          "IFO_R",
          "IFWM_opercularis_L",
          "IFWM_opercularis_R",
          "IFWM_orbitalis_L",
          "IFWM_orbitalis_R",
          "IFWM_triangularis_L",
          "IFWM_triangularis_R",
          "III_ventricle",
          "IOG_L",
          "IOG_R",
          "IOWM_L",
          "IOWM_R",
          "ITG_L",
          "ITG_R",
          "ITWM_L",
          "ITWM_R",
          "IV_ventricle",
          "Insula_L",
          "Insula_R",
          "LFOG_L",
          "LFOG_R",
          "LFOWM_L",
          "LFOWM_R",
          "LGWM_L",
          "LGWM_R",
          "LG_L",
          "LG_R",
          "LV_Frontal_L",
          "LV_Frontal_R",
          "LV_Inferior_L",
          "LV_Inferior_R",
          "LV_Occipital_L",
          "LV_Occipital_R",
          "LV_atrium_L",
          "LV_atrium_R",
          "LV_body_L",
          "LV_body_R",
          "MCP_L",
          "MCP_R",
          "MCP_cb_L",
          "MCP_cb_R",
          "MFG_DPFC_L",
          "MFG_DPFC_R",
          "MFG_L",
          "MFG_R",
          "MFOG_L",
          "MFOG_R",
          "MFOWM_L",
          "MFOWM_R",
          "MFWM_DPFC_L",
          "MFWM_DPFC_R",
          "MFWM_L",
          "MFWM_R",
          "ML_L",
          "ML_R",
          "MOG_L",
          "MOG_R",
          "MOWM_L",
          "MOWM_R",
          "MTG_L",
          "MTG_L_pole",
          "MTG_R",
          "MTG_R_pole",
          "MTWM_L",
          "MTWM_L_pole",
          "MTWM_R",
          "MTWM_R_pole",
          "Mammillary_L",
          "Mammillary_R",
          "Medulla_L",
          "Medulla_R",
          "Midbrain_L",
          "Midbrain_R",
          "NucAccumbens_L",
          "NucAccumbens_R",
          "OcciptSul_L",
          "OcciptSul_R",
          "PCCWM_L",
          "PCCWM_R",
          "PCC_L",
          "PCC_R",
          "PCR_L",
          "PCR_R",
          "PCT_L",
          "PCT_R",
          "PHG_L",
          "PHG_R",
          "PLIC_L",
          "PLIC_R",
          "PTR_L",
          "PTR_R",
          "PVWa_L",
          "PVWa_R",
          "PVWl_L",
          "PVWl_R",
          "PVWp_L",
          "PVWp_R",
          "ParietSul_L",
          "ParietSul_R",
          "PoCG_L",
          "PoCG_R",
          "PoCWM_L",
          "PoCWM_R",
          "Pons_L",
          "Pons_R",
          "PrCG_L",
          "PrCG_R",
          "PrCWM_L",
          "PrCWM_R",
          "PrCuWM_L",
          "PrCuWM_R",
          "PrCu_L",
          "PrCu_R",
          "Put_L",
          "Put_R",
          "RGWM_L",
          "RGWM_R",
          "RG_L",
          "RG_R",
          "RLIC_L",
          "RLIC_R",
          "RedNc_L",
          "RedNc_R",
          "SCC_L",
          "SCC_R",
          "SCP_L",
          "SCP_R",
          "SCR_L",
          "SCR_R",
          "SFG_L",
          "SFG_PFC_L",
          "SFG_PFC_R",
          "SFG_R",
          "SFG_pole_L",
          "SFG_pole_R",
          "SFO_L",
          "SFO_R",
          "SFWM_L",
          "SFWM_PFC_L",
          "SFWM_PFC_R",
          "SFWM_R",
          "SFWM_pole_L",
          "SFWM_pole_R",
          "SLF_L",
          "SLF_R",
          "SMG_L",
          "SMG_R",
          "SMWM_L",
          "SMWM_R",
          "SOG_L",
          "SOG_R",
          "SOWM_L",
          "SOWM_R",
          "SPG_L",
          "SPG_R",
          "SPWM_L",
          "SPWM_R",
          "SS_L",
          "SS_R",
          "STG_L",
          "STG_L_pole",
          "STG_R",
          "STG_R_pole",
          "STWM_L",
          "STWM_L_pole",
          "STWM_R",
          "STWM_R_pole",
          "Snigra_L",
          "Snigra_R",
          "SylFrontSul_L",
          "SylFrontSul_R",
          "SylParieSul_L",
          "SylParieSul_R",
          "SylTempSul_L",
          "SylTempSul_R",
          "TempSul_L",
          "TempSul_R",
          "Thalamus_L",
          "Thalamus_R",
          "dorsalWM_ACC_L",
          "dorsalWM_ACC_R",
          "dorsal_ACC_L",
          "dorsal_ACC_R",
          "rostralWM_ACC_L",
          "rostralWM_ACC_R",
          "rostral_ACC_L",
          "rostral_ACC_R",
          "subcallosalWM_ACC_L",
          "subcallosalWM_ACC_R",
          "subcallosal_ACC_L",
          "subcallosal_ACC_R",
          "subgenualWM_ACC_L",
          "subgenualWM_ACC_R",
          "subgenual_ACC_L",
          "subgenual_ACC_R",
          "AnteriorWM_L",
          "AnteriorWM_R",
          "BasalForebrain_L",
          "BasalForebrain_R",
          "BasalGang_L",
          "BasalGang_R",
          "CentralSul_L",
          "CentralSul_R",
          "Cerebellum_L",
          "Cerebellum_R",
          "CinguSul_L",
          "CinguSul_R",
          "CorpusCallosum_L",
          "CorpusCallosum_R",
          "FrontSul_L",
          "FrontSul_R",
          "Frontal_L",
          "Frontal_R",
          "III_ventricle",
          "IV_ventricle",
          "InferiorWM_L",
          "InferiorWM_R",
          "Insula_L",
          "Insula_R",
          "LateralVentricle_L",
          "LateralVentricle_L",
          "LateralVentricle_R",
          "LateralVentricle_R",
          "LimbicWM_L",
          "LimbicWM_R",
          "Limbic_L",
          "Limbic_L",
          "Limbic_R",
          "Limbic_R",
          "Medulla_L",
          "Medulla_R",
          "Occipital_L",
          "Occipital_R",
          "OcciptSul_L",
          "OcciptSul_R",
          "ParietSul_L",
          "ParietSul_R",
          "Parietal_L",
          "Parietal_R",
          "Pons_L",
          "Pons_R",
          "PosteriorWM_L",
          "PosteriorWM_R",
          "SylvianFissureExt_L",
          "SylvianFissureExt_R",
          "TempSul_L",
          "TempSul_R",
          "Temporal_L",
          "Temporal_R",
          "Thalamus_L",
          "Thalamus_R",
          "midbrain_L",
          "midbrain_R",
          "BasalForebrain_L",
          "BasalForebrain_R",
          "CerebralCortex_L",
          "CerebralCortex_R",
          "CerebralNucli_L",
          "CerebralNucli_R",
          "Mesencephalon_L",
          "Mesencephalon_R",
          "Metencephalon_L",
          "Metencephalon_R",
          "Myelencephalon_L",
          "Myelencephalon_R",
          "Sulcus_L",
          "Sulcus_R",
          "Thalamus_L",
          "Thalamus_R",
          "Ventricle",
          "Ventricle ",
          "WhiteMatter_L",
          "WhiteMatter_R",
          "CSF",
          "Diencephalon_L",
          "Diencephalon_R",
          "Mesencephalon",
          "Metencephalon",
          "Myelencephalon",
          "Telencephalon_L",
          "Telencephalon_R",
          "ICV"
         ],
         "name": "",
         "parents": [
          "ICV/Telencephalon_L/WhiteMatter_L/AnteriorWM_L",
          "ICV/Telencephalon_R/WhiteMatter_R/AnteriorWM_R",
          "ICV/Telencephalon_L/WhiteMatter_L/PosteriorWM_L",
          "ICV/Telencephalon_R/WhiteMatter_R/PosteriorWM_R",
          "ICV/Telencephalon_L/CerebralCortex_L/Parietal_L",
          "ICV/Telencephalon_R/CerebralCortex_R/Parietal_R",
          "ICV/Telencephalon_L/WhiteMatter_L/InferiorWM_L",
          "ICV/Telencephalon_R/WhiteMatter_R/InferiorWM_R",
          "ICV/Telencephalon_L/CerebralNucli_L/Limbic_L",
          "ICV/Telencephalon_R/CerebralNucli_R/Limbic_R",
          "ICV/Telencephalon_L/WhiteMatter_L/CorpusCallosum_L",
          "ICV/Telencephalon_R/WhiteMatter_R/CorpusCallosum_R",
          "ICV/Diencephalon_L/BasalForebrain_L/BasalForebrain_L",
          "ICV/Diencephalon_R/BasalForebrain_R/BasalForebrain_R",
          "ICV/Telencephalon_L/WhiteMatter_L/LimbicWM_L",
          "ICV/Telencephalon_R/WhiteMatter_R/LimbicWM_R",
          "ICV/Telencephalon_L/WhiteMatter_L/LimbicWM_L",
          "ICV/Telencephalon_R/WhiteMatter_R/LimbicWM_R",
          "ICV/Mesencephalon/Mesencephalon_L/midbrain_L",
          "ICV/Mesencephalon/Mesencephalon_R/midbrain_R",
          "ICV/Metencephalon/Metencephalon_L/Pons_L",
          "ICV/Metencephalon/Metencephalon_R/Pons_R",
          "ICV/Telencephalon_L/CerebralNucli_L/BasalGang_L",
          "ICV/Telencephalon_R/CerebralNucli_R/BasalGang_R",
          "ICV/Telencephalon_L/CerebralNucli_L/BasalGang_L",
          "ICV/Telencephalon_R/CerebralNucli_R/BasalGang_R",
          "ICV/CSF/Sulcus_L/CentralSul_L",
          "ICV/CSF/Sulcus_R/CentralSul_R",
          "ICV/Metencephalon/Metencephalon_L/Cerebellum_L",
          "ICV/Metencephalon/Metencephalon_R/Cerebellum_R",
          "ICV/Metencephalon/Metencephalon_L/Cerebellum_L",
          "ICV/Metencephalon/Metencephalon_R/Cerebellum_R",
          "ICV/CSF/Ventricle /LateralVentricle_L",
          "ICV/CSF/Ventricle /LateralVentricle_R",
          "ICV/CSF/Sulcus_L/CinguSul_L",
          "ICV/CSF/Sulcus_R/CinguSul_R",
          "ICV/Diencephalon_L/BasalForebrain_L/BasalForebrain_L",
          "ICV/Diencephalon_R/BasalForebrain_R/BasalForebrain_R",
          "ICV/Telencephalon_L/WhiteMatter_L/PosteriorWM_L",
          "ICV/Telencephalon_R/WhiteMatter_R/PosteriorWM_R",
          "ICV/Telencephalon_L/CerebralCortex_L/Occipital_L",
          "ICV/Telencephalon_R/CerebralCortex_R/Occipital_R",
          "ICV/Telencephalon_L/WhiteMatter_L/InferiorWM_L",
          "ICV/Telencephalon_R/WhiteMatter_R/InferiorWM_R",
          "ICV/Telencephalon_L/WhiteMatter_L/InferiorWM_L",
          "ICV/Telencephalon_R/WhiteMatter_R/InferiorWM_R",
          "ICV/Telencephalon_L/CerebralCortex_L/Limbic_L",
          "ICV/Telencephalon_R/CerebralCortex_R/Limbic_R",
          "ICV/Telencephalon_L/CerebralCortex_L/Limbic_L",
          "ICV/Telencephalon_R/CerebralCortex_R/Limbic_R",
          "ICV/CSF/Sulcus_L/FrontSul_L",
          "ICV/CSF/Sulcus_R/FrontSul_R",
          "ICV/Telencephalon_L/CerebralCortex_L/Temporal_L",
          "ICV/Telencephalon_R/CerebralCortex_R/Temporal_R",
          "ICV/Telencephalon_L/WhiteMatter_L/InferiorWM_L",
          "ICV/Telencephalon_R/WhiteMatter_R/InferiorWM_R",
          "ICV/Telencephalon_L/WhiteMatter_L/LimbicWM_L",
          "ICV/Telencephalon_R/WhiteMatter_R/LimbicWM_R",
          "ICV/Telencephalon_L/WhiteMatter_L/LimbicWM_L",
          "ICV/Telencephalon_R/WhiteMatter_R/LimbicWM_R",
          "ICV/Telencephalon_L/WhiteMatter_L/CorpusCallosum_L",
          "ICV/Telencephalon_R/WhiteMatter_R/CorpusCallosum_R",
          "ICV/Telencephalon_L/CerebralNucli_L/BasalGang_L",
          "ICV/Telencephalon_R/CerebralNucli_R/BasalGang_R",
          "ICV/Telencephalon_L/CerebralCortex_L/Limbic_L",
          "ICV/Telencephalon_R/CerebralCortex_R/Limbic_R",
          "ICV/Diencephalon_L/BasalForebrain_L/BasalForebrain_L",
          "ICV/Diencephalon_R/BasalForebrain_R/BasalForebrain_R",
          "ICV/Myelencephalon/Myelencephalon_L/Medulla_L",
          "ICV/Myelencephalon/Myelencephalon_R/Medulla_R",
          "ICV/Metencephalon/Metencephalon_L/Cerebellum_L",
          "ICV/Metencephalon/Metencephalon_R/Cerebellum_R",
          "ICV/Telencephalon_L/CerebralCortex_L/Frontal_L",
          "ICV/Telencephalon_R/CerebralCortex_R/Frontal_R",
          "ICV/Telencephalon_L/CerebralCortex_L/Frontal_L",
          "ICV/Telencephalon_R/CerebralCortex_R/Frontal_R",
          "ICV/Telencephalon_L/CerebralCortex_L/Frontal_L",
          "ICV/Telencephalon_R/CerebralCortex_R/Frontal_R",
          "ICV/Telencephalon_L/WhiteMatter_L/InferiorWM_L",
          "ICV/Telencephalon_R/WhiteMatter_R/InferiorWM_R",
          "ICV/Telencephalon_L/WhiteMatter_L/AnteriorWM_L",
          "ICV/Telencephalon_R/WhiteMatter_R/AnteriorWM_R",
          "ICV/Telencephalon_L/WhiteMatter_L/AnteriorWM_L",
          "ICV/Telencephalon_R/WhiteMatter_R/AnteriorWM_R",
          "ICV/Telencephalon_L/WhiteMatter_L/AnteriorWM_L",
          "ICV/Telencephalon_R/WhiteMatter_R/AnteriorWM_R",
          "ICV/CSF/Ventricle/III_ventricle",
          "ICV/Telencephalon_L/CerebralCortex_L/Occipital_L",
          "ICV/Telencephalon_R/CerebralCortex_R/Occipital_R",
          "ICV/Telencephalon_L/WhiteMatter_L/PosteriorWM_L",
          "ICV/Telencephalon_R/WhiteMatter_R/PosteriorWM_R",
          "ICV/Telencephalon_L/CerebralCortex_L/Temporal_L",
          "ICV/Telencephalon_R/CerebralCortex_R/Temporal_R",
          "ICV/Telencephalon_L/WhiteMatter_L/InferiorWM_L",
          "ICV/Telencephalon_R/WhiteMatter_R/InferiorWM_R",
          "ICV/CSF/Ventricle/IV_ventricle",
          "ICV/Telencephalon_L/CerebralCortex_L/Insula_L",
          "ICV/Telencephalon_R/CerebralCortex_R/Insula_R",
          "ICV/Telencephalon_L/CerebralCortex_L/Frontal_L",
          "ICV/Telencephalon_R/CerebralCortex_R/Frontal_R",
          "ICV/Telencephalon_L/WhiteMatter_L/AnteriorWM_L",
          "ICV/Telencephalon_R/WhiteMatter_R/AnteriorWM_R",
          "ICV/Telencephalon_L/WhiteMatter_L/PosteriorWM_L",
          "ICV/Telencephalon_R/WhiteMatter_R/PosteriorWM_R",
          "ICV/Telencephalon_L/CerebralCortex_L/Occipital_L",
          "ICV/Telencephalon_R/CerebralCortex_R/Occipital_R",
          "ICV/CSF/Ventricle/LateralVentricle_L",
          "ICV/CSF/Ventricle/LateralVentricle_R",
          "ICV/CSF/Ventricle/LateralVentricle_L",
          "ICV/CSF/Ventricle/LateralVentricle_R",
          "ICV/CSF/Ventricle/LateralVentricle_L",
          "ICV/CSF/Ventricle/LateralVentricle_R",
          "ICV/CSF/Ventricle/LateralVentricle_L",
          "ICV/CSF/Ventricle/LateralVentricle_R",
          "ICV/CSF/Ventricle/LateralVentricle_L",
          "ICV/CSF/Ventricle/LateralVentricle_R",
          "ICV/Metencephalon/Metencephalon_L/Pons_L",
          "ICV/Metencephalon/Metencephalon_R/Pons_R",
          "ICV/Metencephalon/Metencephalon_L/Cerebellum_L",
          "ICV/Metencephalon/Metencephalon_R/Cerebellum_R",
          "ICV/Telencephalon_L/CerebralCortex_L/Frontal_L",
          "ICV/Telencephalon_R/CerebralCortex_R/Frontal_R",
          "ICV/Telencephalon_L/CerebralCortex_L/Frontal_L",
          "ICV/Telencephalon_R/CerebralCortex_R/Frontal_R",
          "ICV/Telencephalon_L/CerebralCortex_L/Frontal_L",
          "ICV/Telencephalon_R/CerebralCortex_R/Frontal_R",
          "ICV/Telencephalon_L/WhiteMatter_L/AnteriorWM_L",
          "ICV/Telencephalon_R/WhiteMatter_R/AnteriorWM_R",
          "ICV/Telencephalon_L/WhiteMatter_L/AnteriorWM_L",
          "ICV/Telencephalon_R/WhiteMatter_R/AnteriorWM_R",
          "ICV/Telencephalon_L/WhiteMatter_L/AnteriorWM_L",
          "ICV/Telencephalon_R/WhiteMatter_R/AnteriorWM_R",
          "ICV/Metencephalon/Metencephalon_L/Pons_L",
          "ICV/Metencephalon/Metencephalon_R/Pons_R",
          "ICV/Telencephalon_L/CerebralCortex_L/Occipital_L",
          "ICV/Telencephalon_R/CerebralCortex_R/Occipital_R",
          "ICV/Telencephalon_L/WhiteMatter_L/PosteriorWM_L",
          "ICV/Telencephalon_R/WhiteMatter_R/PosteriorWM_R",
          "ICV/Telencephalon_L/CerebralCortex_L/Temporal_L",
          "ICV/Telencephalon_L/CerebralCortex_L/Temporal_L",
          "ICV/Telencephalon_R/CerebralCortex_R/Temporal_R",
          "ICV/Telencephalon_R/CerebralCortex_R/Temporal_R",
          "ICV/Telencephalon_L/WhiteMatter_L/InferiorWM_L",
          "ICV/Telencephalon_L/WhiteMatter_L/InferiorWM_L",
          "ICV/Telencephalon_R/WhiteMatter_R/InferiorWM_R",
          "ICV/Telencephalon_R/WhiteMatter_R/InferiorWM_R",
          "ICV/Diencephalon_L/BasalForebrain_L/BasalForebrain_L",
          "ICV/Diencephalon_R/BasalForebrain_R/BasalForebrain_R",
          "ICV/Myelencephalon/Myelencephalon_L/Medulla_L",
          "ICV/Myelencephalon/Myelencephalon_R/Medulla_R",
          "ICV/Mesencephalon/Mesencephalon_L/midbrain_L",
          "ICV/Mesencephalon/Mesencephalon_R/midbrain_R",
          "ICV/Telencephalon_L/CerebralNucli_L/BasalGang_L",
          "ICV/Telencephalon_R/CerebralNucli_R/BasalGang_R",
          "ICV/CSF/Sulcus_L/OcciptSul_L",
          "ICV/CSF/Sulcus_R/OcciptSul_R",
          "ICV/Telencephalon_L/WhiteMatter_L/LimbicWM_L",
          "ICV/Telencephalon_R/WhiteMatter_R/LimbicWM_R",
          "ICV/Telencephalon_L/CerebralCortex_L/Limbic_L",
          "ICV/Telencephalon_R/CerebralCortex_R/Limbic_R",
          "ICV/Telencephalon_L/WhiteMatter_L/PosteriorWM_L",
          "ICV/Telencephalon_R/WhiteMatter_R/PosteriorWM_R",
          "ICV/Metencephalon/Metencephalon_L/Pons_L",
          "ICV/Metencephalon/Metencephalon_R/Pons_R",
          "ICV/Telencephalon_L/CerebralCortex_L/Limbic_L",
          "ICV/Telencephalon_R/CerebralCortex_R/Limbic_R",
          "ICV/Telencephalon_L/WhiteMatter_L/InferiorWM_L",
          "ICV/Telencephalon_R/WhiteMatter_R/InferiorWM_R",
          "ICV/Telencephalon_L/WhiteMatter_L/InferiorWM_L",
          "ICV/Telencephalon_R/WhiteMatter_R/InferiorWM_R",
          "ICV/Telencephalon_L/WhiteMatter_L/AnteriorWM_L",
          "ICV/Telencephalon_R/WhiteMatter_R/AnteriorWM_R",
          "ICV/Telencephalon_L/WhiteMatter_L/InferiorWM_L",
          "ICV/Telencephalon_R/WhiteMatter_R/InferiorWM_R",
          "ICV/Telencephalon_L/WhiteMatter_L/PosteriorWM_L",
          "ICV/Telencephalon_R/WhiteMatter_R/PosteriorWM_R",
          "ICV/CSF/Sulcus_L/ParietSul_L",
          "ICV/CSF/Sulcus_R/ParietSul_R",
          "ICV/Telencephalon_L/CerebralCortex_L/Parietal_L",
          "ICV/Telencephalon_R/CerebralCortex_R/Parietal_R",
          "ICV/Telencephalon_L/WhiteMatter_L/PosteriorWM_L",
          "ICV/Telencephalon_R/WhiteMatter_R/PosteriorWM_R",
          "ICV/Metencephalon/Metencephalon_L/Pons_L",
          "ICV/Metencephalon/Metencephalon_R/Pons_R",
          "ICV/Telencephalon_L/CerebralCortex_L/Frontal_L",
          "ICV/Telencephalon_R/CerebralCortex_R/Frontal_R",
          "ICV/Telencephalon_L/WhiteMatter_L/AnteriorWM_L",
          "ICV/Telencephalon_R/WhiteMatter_R/AnteriorWM_R",
          "ICV/Telencephalon_L/WhiteMatter_L/PosteriorWM_L",
          "ICV/Telencephalon_R/WhiteMatter_R/PosteriorWM_R",
          "ICV/Telencephalon_L/CerebralCortex_L/Parietal_L",
          "ICV/Telencephalon_R/CerebralCortex_R/Parietal_R",
          "ICV/Telencephalon_L/CerebralNucli_L/BasalGang_L",
          "ICV/Telencephalon_R/CerebralNucli_R/BasalGang_R",
          "ICV/Telencephalon_L/WhiteMatter_L/AnteriorWM_L",
          "ICV/Telencephalon_R/WhiteMatter_R/AnteriorWM_R",
          "ICV/Telencephalon_L/CerebralCortex_L/Frontal_L",
          "ICV/Telencephalon_R/CerebralCortex_R/Frontal_R",
          "ICV/Telencephalon_L/WhiteMatter_L/InferiorWM_L",
          "ICV/Telencephalon_R/WhiteMatter_R/InferiorWM_R",
          "ICV/Mesencephalon/Mesencephalon_L/midbrain_L",
          "ICV/Mesencephalon/Mesencephalon_R/midbrain_R",
          "ICV/Telencephalon_L/WhiteMatter_L/CorpusCallosum_L",
          "ICV/Telencephalon_R/WhiteMatter_R/CorpusCallosum_R",
          "ICV/Metencephalon/Metencephalon_L/Pons_L",
          "ICV/Metencephalon/Metencephalon_R/Pons_R",
          "ICV/Telencephalon_L/WhiteMatter_L/AnteriorWM_L",
          "ICV/Telencephalon_R/WhiteMatter_R/AnteriorWM_R",
          "ICV/Telencephalon_L/CerebralCortex_L/Frontal_L",
          "ICV/Telencephalon_L/CerebralCortex_L/Frontal_L",
          "ICV/Telencephalon_R/CerebralCortex_R/Frontal_R",
          "ICV/Telencephalon_R/CerebralCortex_R/Frontal_R",
          "ICV/Telencephalon_L/CerebralCortex_L/Frontal_L",
          "ICV/Telencephalon_R/CerebralCortex_R/Frontal_R",
          "ICV/Telencephalon_L/WhiteMatter_L/AnteriorWM_L",
          "ICV/Telencephalon_R/WhiteMatter_R/AnteriorWM_R",
          "ICV/Telencephalon_L/WhiteMatter_L/AnteriorWM_L",
          "ICV/Telencephalon_L/WhiteMatter_L/AnteriorWM_L",
          "ICV/Telencephalon_R/WhiteMatter_R/AnteriorWM_R",
          "ICV/Telencephalon_R/WhiteMatter_R/AnteriorWM_R",
          "ICV/Telencephalon_L/WhiteMatter_L/AnteriorWM_L",
          "ICV/Telencephalon_R/WhiteMatter_R/AnteriorWM_R",
          "ICV/Telencephalon_L/WhiteMatter_L/PosteriorWM_L",
          "ICV/Telencephalon_R/WhiteMatter_R/PosteriorWM_R",
          "ICV/Telencephalon_L/CerebralCortex_L/Parietal_L",
          "ICV/Telencephalon_R/CerebralCortex_R/Parietal_R",
          "ICV/Telencephalon_L/WhiteMatter_L/PosteriorWM_L",
          "ICV/Telencephalon_R/WhiteMatter_R/PosteriorWM_R",
          "ICV/Telencephalon_L/CerebralCortex_L/Occipital_L",
          "ICV/Telencephalon_R/CerebralCortex_R/Occipital_R",
          "ICV/Telencephalon_L/WhiteMatter_L/PosteriorWM_L",
          "ICV/Telencephalon_R/WhiteMatter_R/PosteriorWM_R",
          "ICV/Telencephalon_L/CerebralCortex_L/Parietal_L",
          "ICV/Telencephalon_R/CerebralCortex_R/Parietal_R",
          "ICV/Telencephalon_L/WhiteMatter_L/PosteriorWM_L",
          "ICV/Telencephalon_R/WhiteMatter_R/PosteriorWM_R",
          "ICV/Telencephalon_L/WhiteMatter_L/InferiorWM_L",
          "ICV/Telencephalon_R/WhiteMatter_R/InferiorWM_R",
          "ICV/Telencephalon_L/CerebralCortex_L/Temporal_L",
          "ICV/Telencephalon_L/CerebralCortex_L/Temporal_L",
          "ICV/Telencephalon_R/CerebralCortex_R/Temporal_R",
          "ICV/Telencephalon_R/CerebralCortex_R/Temporal_R",
          "ICV/Telencephalon_L/WhiteMatter_L/InferiorWM_L",
          "ICV/Telencephalon_L/WhiteMatter_L/InferiorWM_L",
          "ICV/Telencephalon_R/WhiteMatter_R/InferiorWM_R",
          "ICV/Telencephalon_R/WhiteMatter_R/InferiorWM_R",
          "ICV/Mesencephalon/Mesencephalon_L/midbrain_L",
          "ICV/Mesencephalon/Mesencephalon_R/midbrain_R",
          "ICV/CSF/Sulcus_L/SylvianFissureExt_L",
          "ICV/CSF/Sulcus_R/SylvianFissureExt_R",
          "ICV/CSF/Sulcus_L/SylvianFissureExt_L",
          "ICV/CSF/Sulcus_R/SylvianFissureExt_R",
          "ICV/CSF/Sulcus_L/SylvianFissureExt_L",
          "ICV/CSF/Sulcus_R/SylvianFissureExt_R",
          "ICV/CSF/Sulcus_L/TempSul_L",
          "ICV/CSF/Sulcus_R/TempSul_R",
          "ICV/Diencephalon_L/Thalamus_L/Thalamus_L",
          "ICV/Diencephalon_R/Thalamus_R/Thalamus_R",
          "ICV/Telencephalon_L/WhiteMatter_L/LimbicWM_L",
          "ICV/Telencephalon_R/WhiteMatter_R/LimbicWM_R",
          "ICV/Telencephalon_L/CerebralCortex_L/Limbic_L",
          "ICV/Telencephalon_R/CerebralCortex_R/Limbic_R",
          "ICV/Telencephalon_L/WhiteMatter_L/LimbicWM_L",
          "ICV/Telencephalon_R/WhiteMatter_R/LimbicWM_R",
          "ICV/Telencephalon_L/CerebralCortex_L/Limbic_L",
          "ICV/Telencephalon_R/CerebralCortex_R/Limbic_R",
          "ICV/Telencephalon_L/WhiteMatter_L/LimbicWM_L",
          "ICV/Telencephalon_R/WhiteMatter_R/LimbicWM_R",
          "ICV/Telencephalon_L/CerebralCortex_L/Limbic_L",
          "ICV/Telencephalon_R/CerebralCortex_R/Limbic_R",
          "ICV/Telencephalon_L/WhiteMatter_L/LimbicWM_L",
          "ICV/Telencephalon_R/WhiteMatter_R/LimbicWM_R",
          "ICV/Telencephalon_L/CerebralCortex_L/Limbic_L",
          "ICV/Telencephalon_R/CerebralCortex_R/Limbic_R",
          "ICV/Telencephalon_L/WhiteMatter_L",
          "ICV/Telencephalon_R/WhiteMatter_R",
          "ICV/Diencephalon_L/BasalForebrain_L",
          "ICV/Diencephalon_R/BasalForebrain_R",
          "ICV/Telencephalon_L/CerebralNucli_L",
          "ICV/Telencephalon_R/CerebralNucli_R",
          "ICV/CSF/Sulcus_L",
          "ICV/CSF/Sulcus_R",
          "ICV/Metencephalon/Metencephalon_L",
          "ICV/Metencephalon/Metencephalon_R",
          "ICV/CSF/Sulcus_L",
          "ICV/CSF/Sulcus_R",
          "ICV/Telencephalon_L/WhiteMatter_L",
          "ICV/Telencephalon_R/WhiteMatter_R",
          "ICV/CSF/Sulcus_L",
          "ICV/CSF/Sulcus_R",
          "ICV/Telencephalon_L/CerebralCortex_L",
          "ICV/Telencephalon_R/CerebralCortex_R",
          "ICV/CSF/Ventricle",
          "ICV/CSF/Ventricle",
          "ICV/Telencephalon_L/WhiteMatter_L",
          "ICV/Telencephalon_R/WhiteMatter_R",
          "ICV/Telencephalon_L/CerebralCortex_L",
          "ICV/Telencephalon_R/CerebralCortex_R",
          "ICV/CSF/Ventricle",
          "ICV/CSF/Ventricle ",
          "ICV/CSF/Ventricle",
          "ICV/CSF/Ventricle ",
          "ICV/Telencephalon_L/WhiteMatter_L",
          "ICV/Telencephalon_R/WhiteMatter_R",
          "ICV/Telencephalon_L/CerebralCortex_L",
          "ICV/Telencephalon_L/CerebralNucli_L",
          "ICV/Telencephalon_R/CerebralCortex_R",
          "ICV/Telencephalon_R/CerebralNucli_R",
          "ICV/Myelencephalon/Myelencephalon_L",
          "ICV/Myelencephalon/Myelencephalon_R",
          "ICV/Telencephalon_L/CerebralCortex_L",
          "ICV/Telencephalon_R/CerebralCortex_R",
          "ICV/CSF/Sulcus_L",
          "ICV/CSF/Sulcus_R",
          "ICV/CSF/Sulcus_L",
          "ICV/CSF/Sulcus_R",
          "ICV/Telencephalon_L/CerebralCortex_L",
          "ICV/Telencephalon_R/CerebralCortex_R",
          "ICV/Metencephalon/Metencephalon_L",
          "ICV/Metencephalon/Metencephalon_R",
          "ICV/Telencephalon_L/WhiteMatter_L",
          "ICV/Telencephalon_R/WhiteMatter_R",
          "ICV/CSF/Sulcus_L",
          "ICV/CSF/Sulcus_R",
          "ICV/CSF/Sulcus_L",
          "ICV/CSF/Sulcus_R",
          "ICV/Telencephalon_L/CerebralCortex_L",
          "ICV/Telencephalon_R/CerebralCortex_R",
          "ICV/Diencephalon_L/Thalamus_L",
          "ICV/Diencephalon_R/Thalamus_R",
          "ICV/Mesencephalon/Mesencephalon_L",
          "ICV/Mesencephalon/Mesencephalon_R",
          "ICV/Diencephalon_L",
          "ICV/Diencephalon_R",
          "ICV/Telencephalon_L",
          "ICV/Telencephalon_R",
          "ICV/Telencephalon_L",
          "ICV/Telencephalon_R",
          "ICV/Mesencephalon",
          "ICV/Mesencephalon",
          "ICV/Metencephalon",
          "ICV/Metencephalon",
          "ICV/Myelencephalon",
          "ICV/Myelencephalon",
          "ICV/CSF",
          "ICV/CSF",
          "ICV/Diencephalon_L",
          "ICV/Diencephalon_R",
          "ICV/CSF",
          "ICV/CSF",
          "ICV/Telencephalon_L",
          "ICV/Telencephalon_R",
          "ICV",
          "ICV",
          "ICV",
          "ICV",
          "ICV",
          "ICV",
          "ICV",
          "ICV",
          ""
         ],
         "type": "sunburst",
         "values": [
          0.009114464655408133,
          0.009606356398715873,
          0.002630174086274918,
          0.003688464704597307,
          0.005374640665847812,
          0.009823367461939876,
          0.0016955797739902113,
          0.0018286798927676,
          0.0014344431279106609,
          0.0016991966250439448,
          0.00298028526827631,
          0.0032457621356203406,
          0.003085897319045325,
          0.0027198719924075064,
          0.002267765610690833,
          0.002577368060890411,
          0.0013100234516622324,
          0.001247813613538018,
          0.0013997213577948203,
          0.0014568676044438079,
          0.0011349678606615366,
          0.0010322492907355084,
          0.0025824316523656377,
          0.002693107294609879,
          0.00026258338650104383,
          0.0002495627227076036,
          0.001561756285002076,
          0.001265897868806685,
          0.04299350847572876,
          0.042320050809523606,
          0.00662462439001807,
          0.0073458244901325066,
          0.0003211763735715247,
          0.00026837034818701723,
          0.0008485132572058524,
          0.001026462329049535,
          0.0003030921183028577,
          0.00040725742865037925,
          0.004372772923963664,
          0.003486644415798984,
          0.004367709332488437,
          0.004947128871296526,
          0.00021122410153802973,
          0.00021122410153802973,
          0.002391461916728515,
          0.0022909134574347267,
          0.0006727342959944098,
          0.000753028389387291,
          0.00003616851053733386,
          0.000032551659483600474,
          0.010853446642043145,
          0.008124894207106678,
          0.010150330797197375,
          0.009775625028030597,
          0.003791183274523335,
          0.004165889043690114,
          0.001030802550314015,
          0.0010402063630537218,
          0.0006532033003042496,
          0.0007204767299036905,
          0.001869188624569414,
          0.001987821339131869,
          0.0009895704483014545,
          0.0010691411714835888,
          0.002837781336759215,
          0.0027017877371388393,
          0.00048104119014654036,
          0.0005504847303782214,
          0.000645246227986036,
          0.0006698408151514231,
          0.00039206665422469904,
          0.00041666124139008606,
          0.003059132621247698,
          0.0029542439406894296,
          0.0032920578291081278,
          0.0027979959751681474,
          0.0031112152764214587,
          0.0026453648607005983,
          0.0013078533410299923,
          0.001349085443042553,
          0.00160877534870061,
          0.0027632742050523068,
          0.0024732027505428894,
          0.001796851603494746,
          0.003358607888496822,
          0.0026591088947047854,
          0.0017491091695854655,
          0.0031032582041032454,
          0.0032370816930913805,
          0.0013801903621046602,
          0.002447884793166756,
          0.009081189625713786,
          0.00892349491977101,
          0.004513106744848519,
          0.004018321520697792,
          0.0019530995690160283,
          0.00523792369601669,
          0.005122907832507968,
          0.003399839990509383,
          0.0032479322462525806,
          0.0018286798927676,
          0.001440953459807381,
          0.006130562536078089,
          0.004824879305680337,
          0.005836150860304192,
          0.00527264546613253,
          0.0048870891438045514,
          0.0042570336902441955,
          0.0006032907557627288,
          0.0006575435215687295,
          0.00030236874809211106,
          0.00008680442528960127,
          0.0032978447907941015,
          0.0029658178640613766,
          0.006019163523623101,
          0.0057573035073328034,
          0.0020956035005331238,
          0.0021679405216077914,
          0.0020760725048429634,
          0.0019118674670034678,
          0.011790934435170838,
          0.011898716596572094,
          0.007188853154400478,
          0.008066301220036197,
          0.003482304194534504,
          0.0034316682797822366,
          0.0016189025316510636,
          0.0014995464468778618,
          0.0035531944751876782,
          0.0044545137577780385,
          0.005082399100706154,
          0.005331961823413758,
          0.0006090777174487022,
          0.0007747294957096913,
          0.011785147473484865,
          0.010245815665015937,
          0.008814989388159009,
          0.008758566511720767,
          0.011746085482104544,
          0.0019502060881730417,
          0.011798891507489051,
          0.002162876930132565,
          0.00682282782776266,
          0.0011689662605666304,
          0.007738614514567953,
          0.0013093000814514858,
          0.00009042127634333466,
          0.00007523050191765443,
          0.0010930123884382293,
          0.0011906673668890307,
          0.0016442204890271973,
          0.0018995701734207742,
          0.0005150395900516342,
          0.0005656755048039016,
          0.0013989979875840737,
          0.001485802412873675,
          0.0025723044694151843,
          0.0028500786303419083,
          0.0041362308650495,
          0.005872319370841526,
          0.0031828289272853795,
          0.0027285524349364666,
          0.0006973288831597968,
          0.000616311419556169,
          0.0009042127634333465,
          0.0009027660230118531,
          0.002451501644220489,
          0.0023849515848317947,
          0.005116397500611248,
          0.00410584931619814,
          0.0006047374961842221,
          0.0006271619727173691,
          0.00028356112261269744,
          0.00028356112261269744,
          0.0005678456154361416,
          0.0004701906369853402,
          0.006321532271715212,
          0.007036945410143676,
          0.007738614514567953,
          0.008085832215726358,
          0.006106691319123449,
          0.006427867692694974,
          0.00019313984626936282,
          0.0004687438965638468,
          0.010666817127670501,
          0.012675616202914025,
          0.008726738222447914,
          0.010623414915025702,
          0.0021592600790788312,
          0.0018344668544535733,
          0.005323281380884798,
          0.0047554357654486555,
          0.0031719783741241793,
          0.0031828289272853795,
          0.002058711619785043,
          0.002536859329088597,
          0.004560125808547053,
          0.004491405638526119,
          0.002216406325727819,
          0.0022424476533146995,
          0.000253179573761337,
          0.0003110491906210712,
          0.003925730133722217,
          0.004291032090149289,
          0.0006900951810523301,
          0.0007523050191765442,
          0.009737286406861022,
          0.010380362524214818,
          0.00935028334411155,
          0.009246841403974774,
          0.008323821015062014,
          0.007269870618004106,
          0.0022265335086782724,
          0.0035257064071793046,
          0.00026258338650104383,
          0.0001996501781660829,
          0.006092947285119262,
          0.006455355760703347,
          0.006343956748248359,
          0.00552727178031536,
          0.0003703655479022987,
          0.0005859298707048085,
          0.005055634402908527,
          0.005629266980030642,
          0.006239791437900838,
          0.006869846891461194,
          0.0028464617792881746,
          0.003458432977579864,
          0.0018576147011974671,
          0.0016406036379734638,
          0.002310444453124887,
          0.002722765473250493,
          0.005471572274087866,
          0.00501150882005298,
          0.005392724921116479,
          0.00528349601929373,
          0.002596899056580571,
          0.002924585762048816,
          0.009372707820644697,
          0.003518472705071838,
          0.008140084981532358,
          0.0039090926188750435,
          0.006365657854570759,
          0.0009353176824954537,
          0.005670499082043203,
          0.0009280839803879868,
          0.0002799442715589641,
          0.00018518277395114936,
          0.00114943526487647,
          0.0008499599976273457,
          0.0004629569348778734,
          0.00020833062069504303,
          0.0011559455967731901,
          0.001057567248111642,
          0.0008239186700404654,
          0.0006582668917794762,
          0.004587613876555427,
          0.0046093149828778275,
          0.0020854763175826704,
          0.0012962794176580455,
          0.00888443292839069,
          0.009074679293817065,
          0.00018445940374040267,
          0.0000014467404214933544,
          0.0019010169138422676,
          0.0026316208266964117,
          0.00008680442528960127,
          0.00007667724233914778,
          0.00034070736926168497,
          0.000432575386026513,
          0.00017216211015770916,
          0.00010344194013677484,
          0.0011176069756036163,
          0.0011704130009881238,
          0.06294695236896511,
          0.06637717390832584,
          0.003960451903838058,
          0.0037528446533537617,
          0.007521603451343949,
          0.007760315620890352,
          0.001561756285002076,
          0.001265897868806685,
          0.052086272024814494,
          0.051994404008049666,
          0.0008485132572058524,
          0.001026462329049535,
          0.00877520402656794,
          0.009524615564901499,
          0.010853446642043145,
          0.008124894207106678,
          0.07137493869437464,
          0.07132864300088686,
          0.0017491091695854655,
          0.0019530995690160283,
          0.041867944427806926,
          0.04145200655662759,
          0.00523792369601669,
          0.005122907832507968,
          0.015109756962076594,
          0.0003211763735715247,
          0.013724503008496706,
          0.00026837034818701723,
          0.010363001639156898,
          0.00991378873828321,
          0.020830891958872066,
          0.0014344431279106609,
          0.023571741687391224,
          0.0016991966250439448,
          0.0017382586164242653,
          0.0018605081820404538,
          0.026949880571578207,
          0.025343275333509836,
          0.0013989979875840737,
          0.001485802412873675,
          0.006321532271715212,
          0.007036945410143676,
          0.030147900273289265,
          0.034545991154629065,
          0.005420212989124852,
          0.005812279643349551,
          0.050950580793942206,
          0.051761478800189234,
          0.0027683377965275337,
          0.002115857866434031,
          0.0008239186700404654,
          0.0006582668917794762,
          0.04581899251890528,
          0.044710065985830626,
          0.004587613876555427,
          0.0046093149828778275,
          0.0035770656921423187,
          0.0038526697424368025,
          0.003960451903838058,
          0.0037528446533537617,
          0.20036052771303614,
          0.20462262499475556,
          0.00895604657925461,
          0.009459512245934297,
          0.0035770656921423187,
          0.0038526697424368025,
          0.057506485013939346,
          0.05780668365139922,
          0.0017382586164242653,
          0.0018605081820404538,
          0.02457650291011836,
          0.021714126986193755,
          0.004587613876555427,
          0.0046093149828778275,
          0.032536468709174794,
          0.0005895467217585419,
          0.17490368325643907,
          0.17902906356832737,
          0.07941664532724545,
          0.008548065780393485,
          0.00836215963623159,
          0.007429735434579121,
          0.11531316866533857,
          0.003598766798464719,
          0.38422025754872985,
          0.39311120080901724,
          1
         ]
        }
       ],
       "layout": {
        "height": 800,
        "legend": {
         "tracegroupgap": 0
        },
        "margin": {
         "t": 60
        },
        "template": {
         "data": {
          "bar": [
           {
            "error_x": {
             "color": "#2a3f5f"
            },
            "error_y": {
             "color": "#2a3f5f"
            },
            "marker": {
             "line": {
              "color": "#E5ECF6",
              "width": 0.5
             },
             "pattern": {
              "fillmode": "overlay",
              "size": 10,
              "solidity": 0.2
             }
            },
            "type": "bar"
           }
          ],
          "barpolar": [
           {
            "marker": {
             "line": {
              "color": "#E5ECF6",
              "width": 0.5
             },
             "pattern": {
              "fillmode": "overlay",
              "size": 10,
              "solidity": 0.2
             }
            },
            "type": "barpolar"
           }
          ],
          "carpet": [
           {
            "aaxis": {
             "endlinecolor": "#2a3f5f",
             "gridcolor": "white",
             "linecolor": "white",
             "minorgridcolor": "white",
             "startlinecolor": "#2a3f5f"
            },
            "baxis": {
             "endlinecolor": "#2a3f5f",
             "gridcolor": "white",
             "linecolor": "white",
             "minorgridcolor": "white",
             "startlinecolor": "#2a3f5f"
            },
            "type": "carpet"
           }
          ],
          "choropleth": [
           {
            "colorbar": {
             "outlinewidth": 0,
             "ticks": ""
            },
            "type": "choropleth"
           }
          ],
          "contour": [
           {
            "colorbar": {
             "outlinewidth": 0,
             "ticks": ""
            },
            "colorscale": [
             [
              0,
              "#0d0887"
             ],
             [
              0.1111111111111111,
              "#46039f"
             ],
             [
              0.2222222222222222,
              "#7201a8"
             ],
             [
              0.3333333333333333,
              "#9c179e"
             ],
             [
              0.4444444444444444,
              "#bd3786"
             ],
             [
              0.5555555555555556,
              "#d8576b"
             ],
             [
              0.6666666666666666,
              "#ed7953"
             ],
             [
              0.7777777777777778,
              "#fb9f3a"
             ],
             [
              0.8888888888888888,
              "#fdca26"
             ],
             [
              1,
              "#f0f921"
             ]
            ],
            "type": "contour"
           }
          ],
          "contourcarpet": [
           {
            "colorbar": {
             "outlinewidth": 0,
             "ticks": ""
            },
            "type": "contourcarpet"
           }
          ],
          "heatmap": [
           {
            "colorbar": {
             "outlinewidth": 0,
             "ticks": ""
            },
            "colorscale": [
             [
              0,
              "#0d0887"
             ],
             [
              0.1111111111111111,
              "#46039f"
             ],
             [
              0.2222222222222222,
              "#7201a8"
             ],
             [
              0.3333333333333333,
              "#9c179e"
             ],
             [
              0.4444444444444444,
              "#bd3786"
             ],
             [
              0.5555555555555556,
              "#d8576b"
             ],
             [
              0.6666666666666666,
              "#ed7953"
             ],
             [
              0.7777777777777778,
              "#fb9f3a"
             ],
             [
              0.8888888888888888,
              "#fdca26"
             ],
             [
              1,
              "#f0f921"
             ]
            ],
            "type": "heatmap"
           }
          ],
          "heatmapgl": [
           {
            "colorbar": {
             "outlinewidth": 0,
             "ticks": ""
            },
            "colorscale": [
             [
              0,
              "#0d0887"
             ],
             [
              0.1111111111111111,
              "#46039f"
             ],
             [
              0.2222222222222222,
              "#7201a8"
             ],
             [
              0.3333333333333333,
              "#9c179e"
             ],
             [
              0.4444444444444444,
              "#bd3786"
             ],
             [
              0.5555555555555556,
              "#d8576b"
             ],
             [
              0.6666666666666666,
              "#ed7953"
             ],
             [
              0.7777777777777778,
              "#fb9f3a"
             ],
             [
              0.8888888888888888,
              "#fdca26"
             ],
             [
              1,
              "#f0f921"
             ]
            ],
            "type": "heatmapgl"
           }
          ],
          "histogram": [
           {
            "marker": {
             "pattern": {
              "fillmode": "overlay",
              "size": 10,
              "solidity": 0.2
             }
            },
            "type": "histogram"
           }
          ],
          "histogram2d": [
           {
            "colorbar": {
             "outlinewidth": 0,
             "ticks": ""
            },
            "colorscale": [
             [
              0,
              "#0d0887"
             ],
             [
              0.1111111111111111,
              "#46039f"
             ],
             [
              0.2222222222222222,
              "#7201a8"
             ],
             [
              0.3333333333333333,
              "#9c179e"
             ],
             [
              0.4444444444444444,
              "#bd3786"
             ],
             [
              0.5555555555555556,
              "#d8576b"
             ],
             [
              0.6666666666666666,
              "#ed7953"
             ],
             [
              0.7777777777777778,
              "#fb9f3a"
             ],
             [
              0.8888888888888888,
              "#fdca26"
             ],
             [
              1,
              "#f0f921"
             ]
            ],
            "type": "histogram2d"
           }
          ],
          "histogram2dcontour": [
           {
            "colorbar": {
             "outlinewidth": 0,
             "ticks": ""
            },
            "colorscale": [
             [
              0,
              "#0d0887"
             ],
             [
              0.1111111111111111,
              "#46039f"
             ],
             [
              0.2222222222222222,
              "#7201a8"
             ],
             [
              0.3333333333333333,
              "#9c179e"
             ],
             [
              0.4444444444444444,
              "#bd3786"
             ],
             [
              0.5555555555555556,
              "#d8576b"
             ],
             [
              0.6666666666666666,
              "#ed7953"
             ],
             [
              0.7777777777777778,
              "#fb9f3a"
             ],
             [
              0.8888888888888888,
              "#fdca26"
             ],
             [
              1,
              "#f0f921"
             ]
            ],
            "type": "histogram2dcontour"
           }
          ],
          "mesh3d": [
           {
            "colorbar": {
             "outlinewidth": 0,
             "ticks": ""
            },
            "type": "mesh3d"
           }
          ],
          "parcoords": [
           {
            "line": {
             "colorbar": {
              "outlinewidth": 0,
              "ticks": ""
             }
            },
            "type": "parcoords"
           }
          ],
          "pie": [
           {
            "automargin": true,
            "type": "pie"
           }
          ],
          "scatter": [
           {
            "fillpattern": {
             "fillmode": "overlay",
             "size": 10,
             "solidity": 0.2
            },
            "type": "scatter"
           }
          ],
          "scatter3d": [
           {
            "line": {
             "colorbar": {
              "outlinewidth": 0,
              "ticks": ""
             }
            },
            "marker": {
             "colorbar": {
              "outlinewidth": 0,
              "ticks": ""
             }
            },
            "type": "scatter3d"
           }
          ],
          "scattercarpet": [
           {
            "marker": {
             "colorbar": {
              "outlinewidth": 0,
              "ticks": ""
             }
            },
            "type": "scattercarpet"
           }
          ],
          "scattergeo": [
           {
            "marker": {
             "colorbar": {
              "outlinewidth": 0,
              "ticks": ""
             }
            },
            "type": "scattergeo"
           }
          ],
          "scattergl": [
           {
            "marker": {
             "colorbar": {
              "outlinewidth": 0,
              "ticks": ""
             }
            },
            "type": "scattergl"
           }
          ],
          "scattermapbox": [
           {
            "marker": {
             "colorbar": {
              "outlinewidth": 0,
              "ticks": ""
             }
            },
            "type": "scattermapbox"
           }
          ],
          "scatterpolar": [
           {
            "marker": {
             "colorbar": {
              "outlinewidth": 0,
              "ticks": ""
             }
            },
            "type": "scatterpolar"
           }
          ],
          "scatterpolargl": [
           {
            "marker": {
             "colorbar": {
              "outlinewidth": 0,
              "ticks": ""
             }
            },
            "type": "scatterpolargl"
           }
          ],
          "scatterternary": [
           {
            "marker": {
             "colorbar": {
              "outlinewidth": 0,
              "ticks": ""
             }
            },
            "type": "scatterternary"
           }
          ],
          "surface": [
           {
            "colorbar": {
             "outlinewidth": 0,
             "ticks": ""
            },
            "colorscale": [
             [
              0,
              "#0d0887"
             ],
             [
              0.1111111111111111,
              "#46039f"
             ],
             [
              0.2222222222222222,
              "#7201a8"
             ],
             [
              0.3333333333333333,
              "#9c179e"
             ],
             [
              0.4444444444444444,
              "#bd3786"
             ],
             [
              0.5555555555555556,
              "#d8576b"
             ],
             [
              0.6666666666666666,
              "#ed7953"
             ],
             [
              0.7777777777777778,
              "#fb9f3a"
             ],
             [
              0.8888888888888888,
              "#fdca26"
             ],
             [
              1,
              "#f0f921"
             ]
            ],
            "type": "surface"
           }
          ],
          "table": [
           {
            "cells": {
             "fill": {
              "color": "#EBF0F8"
             },
             "line": {
              "color": "white"
             }
            },
            "header": {
             "fill": {
              "color": "#C8D4E3"
             },
             "line": {
              "color": "white"
             }
            },
            "type": "table"
           }
          ]
         },
         "layout": {
          "annotationdefaults": {
           "arrowcolor": "#2a3f5f",
           "arrowhead": 0,
           "arrowwidth": 1
          },
          "autotypenumbers": "strict",
          "coloraxis": {
           "colorbar": {
            "outlinewidth": 0,
            "ticks": ""
           }
          },
          "colorscale": {
           "diverging": [
            [
             0,
             "#8e0152"
            ],
            [
             0.1,
             "#c51b7d"
            ],
            [
             0.2,
             "#de77ae"
            ],
            [
             0.3,
             "#f1b6da"
            ],
            [
             0.4,
             "#fde0ef"
            ],
            [
             0.5,
             "#f7f7f7"
            ],
            [
             0.6,
             "#e6f5d0"
            ],
            [
             0.7,
             "#b8e186"
            ],
            [
             0.8,
             "#7fbc41"
            ],
            [
             0.9,
             "#4d9221"
            ],
            [
             1,
             "#276419"
            ]
           ],
           "sequential": [
            [
             0,
             "#0d0887"
            ],
            [
             0.1111111111111111,
             "#46039f"
            ],
            [
             0.2222222222222222,
             "#7201a8"
            ],
            [
             0.3333333333333333,
             "#9c179e"
            ],
            [
             0.4444444444444444,
             "#bd3786"
            ],
            [
             0.5555555555555556,
             "#d8576b"
            ],
            [
             0.6666666666666666,
             "#ed7953"
            ],
            [
             0.7777777777777778,
             "#fb9f3a"
            ],
            [
             0.8888888888888888,
             "#fdca26"
            ],
            [
             1,
             "#f0f921"
            ]
           ],
           "sequentialminus": [
            [
             0,
             "#0d0887"
            ],
            [
             0.1111111111111111,
             "#46039f"
            ],
            [
             0.2222222222222222,
             "#7201a8"
            ],
            [
             0.3333333333333333,
             "#9c179e"
            ],
            [
             0.4444444444444444,
             "#bd3786"
            ],
            [
             0.5555555555555556,
             "#d8576b"
            ],
            [
             0.6666666666666666,
             "#ed7953"
            ],
            [
             0.7777777777777778,
             "#fb9f3a"
            ],
            [
             0.8888888888888888,
             "#fdca26"
            ],
            [
             1,
             "#f0f921"
            ]
           ]
          },
          "colorway": [
           "#636efa",
           "#EF553B",
           "#00cc96",
           "#ab63fa",
           "#FFA15A",
           "#19d3f3",
           "#FF6692",
           "#B6E880",
           "#FF97FF",
           "#FECB52"
          ],
          "font": {
           "color": "#2a3f5f"
          },
          "geo": {
           "bgcolor": "white",
           "lakecolor": "white",
           "landcolor": "#E5ECF6",
           "showlakes": true,
           "showland": true,
           "subunitcolor": "white"
          },
          "hoverlabel": {
           "align": "left"
          },
          "hovermode": "closest",
          "mapbox": {
           "style": "light"
          },
          "paper_bgcolor": "white",
          "plot_bgcolor": "#E5ECF6",
          "polar": {
           "angularaxis": {
            "gridcolor": "white",
            "linecolor": "white",
            "ticks": ""
           },
           "bgcolor": "#E5ECF6",
           "radialaxis": {
            "gridcolor": "white",
            "linecolor": "white",
            "ticks": ""
           }
          },
          "scene": {
           "xaxis": {
            "backgroundcolor": "#E5ECF6",
            "gridcolor": "white",
            "gridwidth": 2,
            "linecolor": "white",
            "showbackground": true,
            "ticks": "",
            "zerolinecolor": "white"
           },
           "yaxis": {
            "backgroundcolor": "#E5ECF6",
            "gridcolor": "white",
            "gridwidth": 2,
            "linecolor": "white",
            "showbackground": true,
            "ticks": "",
            "zerolinecolor": "white"
           },
           "zaxis": {
            "backgroundcolor": "#E5ECF6",
            "gridcolor": "white",
            "gridwidth": 2,
            "linecolor": "white",
            "showbackground": true,
            "ticks": "",
            "zerolinecolor": "white"
           }
          },
          "shapedefaults": {
           "line": {
            "color": "#2a3f5f"
           }
          },
          "ternary": {
           "aaxis": {
            "gridcolor": "white",
            "linecolor": "white",
            "ticks": ""
           },
           "baxis": {
            "gridcolor": "white",
            "linecolor": "white",
            "ticks": ""
           },
           "bgcolor": "#E5ECF6",
           "caxis": {
            "gridcolor": "white",
            "linecolor": "white",
            "ticks": ""
           }
          },
          "title": {
           "x": 0.05
          },
          "xaxis": {
           "automargin": true,
           "gridcolor": "white",
           "linecolor": "white",
           "ticks": "",
           "title": {
            "standoff": 15
           },
           "zerolinecolor": "white",
           "zerolinewidth": 2
          },
          "yaxis": {
           "automargin": true,
           "gridcolor": "white",
           "linecolor": "white",
           "ticks": "",
           "title": {
            "standoff": 15
           },
           "zerolinecolor": "white",
           "zerolinewidth": 2
          }
         }
        },
        "width": 800
       }
      }
     },
     "metadata": {},
     "output_type": "display_data"
    }
   ],
   "source": [
    "fig = px.sunburst(subjectData, path=['icv', 'level1', 'level2', 'level3',  'roi'], \n",
    "                  values='comp', width=800, height=800)\n",
    "fig.show()"
   ]
  }
 ],
 "metadata": {
  "kernelspec": {
   "display_name": "base",
   "language": "python",
   "name": "python3"
  },
  "language_info": {
   "codemirror_mode": {
    "name": "ipython",
    "version": 3
   },
   "file_extension": ".py",
   "mimetype": "text/x-python",
   "name": "python",
   "nbconvert_exporter": "python",
   "pygments_lexer": "ipython3",
   "version": "3.9.13"
  },
  "orig_nbformat": 4,
  "vscode": {
   "interpreter": {
    "hash": "f1981373257bdb33704f2d77a653b9877d2b69f84b5024a2b1c83974dac6dbbc"
   }
  }
 },
 "nbformat": 4,
 "nbformat_minor": 2
}
